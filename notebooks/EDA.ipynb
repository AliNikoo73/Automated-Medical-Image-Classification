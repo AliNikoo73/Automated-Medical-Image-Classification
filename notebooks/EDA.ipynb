{
 "cells": [
  {
   "cell_type": "markdown",
   "metadata": {},
   "source": [
    "# Exploratory Data Analysis (EDA) for Radiology Image Classification\n",
    "\n",
    "This notebook performs initial data analysis and visualization for the radiology image dataset, including sample visualizations, data distribution, and augmentation previews.\n"
   ]
  }
 ],
 "metadata": {
  "language_info": {
   "name": "python"
  }
 },
 "nbformat": 4,
 "nbformat_minor": 2
}
